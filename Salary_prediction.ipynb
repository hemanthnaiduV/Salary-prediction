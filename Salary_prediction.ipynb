{
  "nbformat": 4,
  "nbformat_minor": 0,
  "metadata": {
    "colab": {
      "provenance": []
    },
    "kernelspec": {
      "name": "python3",
      "display_name": "Python 3"
    },
    "language_info": {
      "name": "python"
    }
  },
  "cells": [
    {
      "cell_type": "code",
      "execution_count": null,
      "metadata": {
        "colab": {
          "base_uri": "https://localhost:8080/"
        },
        "id": "MVKf3D1nfQiz",
        "outputId": "8abb2438-96fa-47c3-b2fa-c41da5677634"
      },
      "outputs": [
        {
          "output_type": "stream",
          "name": "stdout",
          "text": [
            "     SEX     DESIGNATION   AGE  SALARY        UNIT  LEAVES USED  \\\n",
            "0      F         Analyst  21.0   44570     Finance         24.0   \n",
            "1      F       Associate   NaN   89207         Web          NaN   \n",
            "2      F         Analyst  21.0   40955     Finance         23.0   \n",
            "3      F         Analyst  22.0   45550          IT         22.0   \n",
            "4      M         Analyst   NaN   43161  Operations         27.0   \n",
            "...   ..             ...   ...     ...         ...          ...   \n",
            "2634   F  Senior Manager  36.0  185977  Management         15.0   \n",
            "2635   F         Analyst  23.0   45758          IT         17.0   \n",
            "2636   F         Analyst  21.0   47315         Web         29.0   \n",
            "2637   F         Analyst  24.0   45172         Web         23.0   \n",
            "2638   M         Analyst  24.0   49176   Marketing         17.0   \n",
            "\n",
            "      LEAVES REMAINING  RATINGS  PAST EXP  \n",
            "0                  6.0      2.0         0  \n",
            "1                 13.0      NaN         7  \n",
            "2                  7.0      3.0         0  \n",
            "3                  8.0      3.0         0  \n",
            "4                  3.0      NaN         3  \n",
            "...                ...      ...       ...  \n",
            "2634              15.0      5.0        10  \n",
            "2635              13.0      2.0         0  \n",
            "2636               1.0      5.0         0  \n",
            "2637               7.0      3.0         1  \n",
            "2638              13.0      2.0         2  \n",
            "\n",
            "[2639 rows x 9 columns]\n"
          ]
        }
      ],
      "source": [
        "import pandas as pd\n",
        "\n",
        "# Read the CSV file into a DataFrame\n",
        "df = pd.read_csv('/content/drive/MyDrive/Salary Prediction of Data Professions.csv')\n",
        "\n",
        "# Define the columns to drop\n",
        "columns_to_drop = ['FIRST NAME', 'LAST NAME','DOJ','CURRENT DATE']  # Replace with actual column names\n",
        "\n",
        "# Drop the columns and create a new DataFrame (without inplace modification)\n",
        "df = df.drop(columns=columns_to_drop, axis=1)\n",
        "\n",
        "# Print the modified DataFrame (optional)\n",
        "print(df)\n",
        "\n",
        "# Alternatively, modify the original DataFrame in-place\n",
        "# df.drop(columns=columns_to_drop, axis=1, inplace=True)\n",
        "\n",
        "# Save the modified DataFrame to a new CSV file (optional)\n",
        "# df_modified.to_csv('salary_modified.csv', index=False)\n"
      ]
    },
    {
      "cell_type": "code",
      "source": [
        "df.info()"
      ],
      "metadata": {
        "colab": {
          "base_uri": "https://localhost:8080/"
        },
        "id": "rJUkuLsrlWaB",
        "outputId": "3b34e7cc-a2d0-404c-8fd5-ed2d0736fe9f"
      },
      "execution_count": null,
      "outputs": [
        {
          "output_type": "stream",
          "name": "stdout",
          "text": [
            "<class 'pandas.core.frame.DataFrame'>\n",
            "RangeIndex: 2639 entries, 0 to 2638\n",
            "Data columns (total 9 columns):\n",
            " #   Column            Non-Null Count  Dtype  \n",
            "---  ------            --------------  -----  \n",
            " 0   SEX               2639 non-null   object \n",
            " 1   DESIGNATION       2639 non-null   object \n",
            " 2   AGE               2636 non-null   float64\n",
            " 3   SALARY            2639 non-null   int64  \n",
            " 4   UNIT              2639 non-null   object \n",
            " 5   LEAVES USED       2636 non-null   float64\n",
            " 6   LEAVES REMAINING  2637 non-null   float64\n",
            " 7   RATINGS           2637 non-null   float64\n",
            " 8   PAST EXP          2639 non-null   int64  \n",
            "dtypes: float64(4), int64(2), object(3)\n",
            "memory usage: 185.7+ KB\n"
          ]
        }
      ]
    },
    {
      "cell_type": "code",
      "source": [
        "def fill_and_convert(df, columns_to_fill):\n",
        "  \"\"\"Fills null values in specified columns with rounded mean (int) converted to float.\n",
        "\n",
        "  Args:\n",
        "      df (pandas.DataFrame): The DataFrame to modify.\n",
        "      columns_to_fill (list): A list of column names to consider for filling null values.\n",
        "\n",
        "  Returns:\n",
        "      pandas.DataFrame: The DataFrame with null values filled and converted.\n",
        "  \"\"\"\n",
        "  for col in columns_to_fill:\n",
        "    df.loc[df[col].isnull(), col] = df[col].fillna(df[col].mean()).round().astype(int).astype(float)\n",
        "  return df\n",
        "\n",
        "# Specify the columns to fill null values (replace with actual columns)\n",
        "columns_to_fill = ['AGE', 'LEAVES USED', 'LEAVES REMAINING', 'RATINGS']  # Replace with actual column names\n",
        "\n",
        "# Fill null values with rounded mean (int) converted to float\n",
        "df = fill_and_convert(df, columns_to_fill.copy())\n",
        "\n",
        "# Print the modified DataFrame (optional)\n",
        "print(df)"
      ],
      "metadata": {
        "colab": {
          "base_uri": "https://localhost:8080/"
        },
        "id": "sbc0NJftrvB_",
        "outputId": "316dab0e-c0e6-4e1f-dfed-da6bd23012b0"
      },
      "execution_count": null,
      "outputs": [
        {
          "output_type": "stream",
          "name": "stdout",
          "text": [
            "     SEX     DESIGNATION   AGE  SALARY        UNIT  LEAVES USED  \\\n",
            "0      F         Analyst  21.0   44570     Finance         24.0   \n",
            "1      F       Associate  25.0   89207         Web         23.0   \n",
            "2      F         Analyst  21.0   40955     Finance         23.0   \n",
            "3      F         Analyst  22.0   45550          IT         22.0   \n",
            "4      M         Analyst  25.0   43161  Operations         27.0   \n",
            "...   ..             ...   ...     ...         ...          ...   \n",
            "2634   F  Senior Manager  36.0  185977  Management         15.0   \n",
            "2635   F         Analyst  23.0   45758          IT         17.0   \n",
            "2636   F         Analyst  21.0   47315         Web         29.0   \n",
            "2637   F         Analyst  24.0   45172         Web         23.0   \n",
            "2638   M         Analyst  24.0   49176   Marketing         17.0   \n",
            "\n",
            "      LEAVES REMAINING  RATINGS  PAST EXP  \n",
            "0                  6.0      2.0         0  \n",
            "1                 13.0      3.0         7  \n",
            "2                  7.0      3.0         0  \n",
            "3                  8.0      3.0         0  \n",
            "4                  3.0      3.0         3  \n",
            "...                ...      ...       ...  \n",
            "2634              15.0      5.0        10  \n",
            "2635              13.0      2.0         0  \n",
            "2636               1.0      5.0         0  \n",
            "2637               7.0      3.0         1  \n",
            "2638              13.0      2.0         2  \n",
            "\n",
            "[2639 rows x 9 columns]\n"
          ]
        }
      ]
    },
    {
      "cell_type": "code",
      "source": [
        "df.info()"
      ],
      "metadata": {
        "colab": {
          "base_uri": "https://localhost:8080/"
        },
        "id": "XPVD-csIru-i",
        "outputId": "ad01b503-88b1-44ee-8215-86134fa50fa1"
      },
      "execution_count": null,
      "outputs": [
        {
          "output_type": "stream",
          "name": "stdout",
          "text": [
            "<class 'pandas.core.frame.DataFrame'>\n",
            "RangeIndex: 2639 entries, 0 to 2638\n",
            "Data columns (total 9 columns):\n",
            " #   Column            Non-Null Count  Dtype  \n",
            "---  ------            --------------  -----  \n",
            " 0   SEX               2639 non-null   object \n",
            " 1   DESIGNATION       2639 non-null   object \n",
            " 2   AGE               2639 non-null   float64\n",
            " 3   SALARY            2639 non-null   int64  \n",
            " 4   UNIT              2639 non-null   object \n",
            " 5   LEAVES USED       2639 non-null   float64\n",
            " 6   LEAVES REMAINING  2639 non-null   float64\n",
            " 7   RATINGS           2639 non-null   float64\n",
            " 8   PAST EXP          2639 non-null   int64  \n",
            "dtypes: float64(4), int64(2), object(3)\n",
            "memory usage: 185.7+ KB\n"
          ]
        }
      ]
    },
    {
      "cell_type": "code",
      "source": [
        "print(df)"
      ],
      "metadata": {
        "colab": {
          "base_uri": "https://localhost:8080/"
        },
        "id": "w80WBRKPru73",
        "outputId": "95043956-b1e2-4ac5-dc12-a93c75f89c34"
      },
      "execution_count": null,
      "outputs": [
        {
          "output_type": "stream",
          "name": "stdout",
          "text": [
            "     SEX     DESIGNATION   AGE  SALARY        UNIT  LEAVES USED  \\\n",
            "0      F         Analyst  21.0   44570     Finance         24.0   \n",
            "1      F       Associate  25.0   89207         Web         23.0   \n",
            "2      F         Analyst  21.0   40955     Finance         23.0   \n",
            "3      F         Analyst  22.0   45550          IT         22.0   \n",
            "4      M         Analyst  25.0   43161  Operations         27.0   \n",
            "...   ..             ...   ...     ...         ...          ...   \n",
            "2634   F  Senior Manager  36.0  185977  Management         15.0   \n",
            "2635   F         Analyst  23.0   45758          IT         17.0   \n",
            "2636   F         Analyst  21.0   47315         Web         29.0   \n",
            "2637   F         Analyst  24.0   45172         Web         23.0   \n",
            "2638   M         Analyst  24.0   49176   Marketing         17.0   \n",
            "\n",
            "      LEAVES REMAINING  RATINGS  PAST EXP  \n",
            "0                  6.0      2.0         0  \n",
            "1                 13.0      3.0         7  \n",
            "2                  7.0      3.0         0  \n",
            "3                  8.0      3.0         0  \n",
            "4                  3.0      3.0         3  \n",
            "...                ...      ...       ...  \n",
            "2634              15.0      5.0        10  \n",
            "2635              13.0      2.0         0  \n",
            "2636               1.0      5.0         0  \n",
            "2637               7.0      3.0         1  \n",
            "2638              13.0      2.0         2  \n",
            "\n",
            "[2639 rows x 9 columns]\n"
          ]
        }
      ]
    },
    {
      "cell_type": "code",
      "source": [
        "import pandas as pd\n",
        "\n",
        "def remove_outliers_iqr(df, columns_to_check):\n",
        "  \"\"\"Removes outliers based on IQR for specified columns.\n",
        "\n",
        "  Args:\n",
        "      df (pandas.DataFrame): The DataFrame to modify.\n",
        "      columns_to_check (list): A list of column names to check for outliers.\n",
        "\n",
        "  Returns:\n",
        "      pandas.DataFrame: The DataFrame with outliers removed.\n",
        "  \"\"\"\n",
        "  for col in columns_to_check:\n",
        "    Q1 = df[col].quantile(0.25)\n",
        "    Q3 = df[col].quantile(0.75)\n",
        "    IQR = Q3 - Q1\n",
        "    lower_bound = Q1 - 1.5 * IQR\n",
        "    upper_bound = Q3 + 1.5 * IQR\n",
        "    df = df[(df[col] >= lower_bound) & (df[col] <= upper_bound)]\n",
        "  return df\n",
        "\n",
        "# Specify the columns to check for outliers (replace with actual columns)\n",
        "columns_to_check = ['AGE', 'LEAVES USED', 'LEAVES REMAINING','RATINGS','PAST EXP']  # Replace with actual column names\n",
        "\n",
        "# Remove outliers using IQR\n",
        "df_1 = remove_outliers_iqr(df.copy(), columns_to_check.copy())\n",
        "\n",
        "# Print the DataFrame without outliers (optional)\n",
        "print(df_1)\n"
      ],
      "metadata": {
        "colab": {
          "base_uri": "https://localhost:8080/"
        },
        "id": "PNDFmAIKodi6",
        "outputId": "e1488c94-5637-4d56-e697-93b49f331c1d"
      },
      "execution_count": null,
      "outputs": [
        {
          "output_type": "stream",
          "name": "stdout",
          "text": [
            "     SEX DESIGNATION   AGE  SALARY       UNIT  LEAVES USED  LEAVES REMAINING  \\\n",
            "0      F     Analyst  21.0   44570    Finance         24.0               6.0   \n",
            "2      F     Analyst  21.0   40955    Finance         23.0               7.0   \n",
            "3      F     Analyst  22.0   45550         IT         22.0               8.0   \n",
            "5      F     Analyst  22.0   48736  Marketing         20.0              10.0   \n",
            "6      M     Analyst  22.0   40339  Marketing         19.0              11.0   \n",
            "...   ..         ...   ...     ...        ...          ...               ...   \n",
            "2633   F     Analyst  24.0   40277        Web         17.0              13.0   \n",
            "2635   F     Analyst  23.0   45758         IT         17.0              13.0   \n",
            "2636   F     Analyst  21.0   47315        Web         29.0               1.0   \n",
            "2637   F     Analyst  24.0   45172        Web         23.0               7.0   \n",
            "2638   M     Analyst  24.0   49176  Marketing         17.0              13.0   \n",
            "\n",
            "      RATINGS  PAST EXP  \n",
            "0         2.0         0  \n",
            "2         3.0         0  \n",
            "3         3.0         0  \n",
            "5         4.0         0  \n",
            "6         5.0         0  \n",
            "...       ...       ...  \n",
            "2633      4.0         2  \n",
            "2635      2.0         0  \n",
            "2636      5.0         0  \n",
            "2637      3.0         1  \n",
            "2638      2.0         2  \n",
            "\n",
            "[2144 rows x 9 columns]\n"
          ]
        }
      ]
    },
    {
      "cell_type": "code",
      "source": [
        "print(df)"
      ],
      "metadata": {
        "colab": {
          "base_uri": "https://localhost:8080/"
        },
        "id": "T4Z009cztsaL",
        "outputId": "cc82f919-c786-4aba-ffe6-8cb18e56b2d4"
      },
      "execution_count": null,
      "outputs": [
        {
          "output_type": "stream",
          "name": "stdout",
          "text": [
            "     SEX     DESIGNATION   AGE  SALARY        UNIT  LEAVES USED  \\\n",
            "0      F         Analyst  21.0   44570     Finance         24.0   \n",
            "1      F       Associate  25.0   89207         Web         23.0   \n",
            "2      F         Analyst  21.0   40955     Finance         23.0   \n",
            "3      F         Analyst  22.0   45550          IT         22.0   \n",
            "4      M         Analyst  25.0   43161  Operations         27.0   \n",
            "...   ..             ...   ...     ...         ...          ...   \n",
            "2634   F  Senior Manager  36.0  185977  Management         15.0   \n",
            "2635   F         Analyst  23.0   45758          IT         17.0   \n",
            "2636   F         Analyst  21.0   47315         Web         29.0   \n",
            "2637   F         Analyst  24.0   45172         Web         23.0   \n",
            "2638   M         Analyst  24.0   49176   Marketing         17.0   \n",
            "\n",
            "      LEAVES REMAINING  RATINGS  PAST EXP  \n",
            "0                  6.0      2.0         0  \n",
            "1                 13.0      3.0         7  \n",
            "2                  7.0      3.0         0  \n",
            "3                  8.0      3.0         0  \n",
            "4                  3.0      3.0         3  \n",
            "...                ...      ...       ...  \n",
            "2634              15.0      5.0        10  \n",
            "2635              13.0      2.0         0  \n",
            "2636               1.0      5.0         0  \n",
            "2637               7.0      3.0         1  \n",
            "2638              13.0      2.0         2  \n",
            "\n",
            "[2639 rows x 9 columns]\n"
          ]
        }
      ]
    },
    {
      "cell_type": "code",
      "source": [
        "# Count the number of unique values in 'designation' and 'unit' columns\n",
        "n_designation = df['DESIGNATION'].nunique()\n",
        "n_unit = df['UNIT'].nunique()\n",
        "\n",
        "# Print the results\n",
        "print(f\"There are {n_designation} unique designations in the dataset.\")\n",
        "print(f\"There are {n_unit} unique units in the dataset.\")"
      ],
      "metadata": {
        "colab": {
          "base_uri": "https://localhost:8080/"
        },
        "id": "pjy4g-QcvnJv",
        "outputId": "64046650-a902-45b0-ab46-23357cfb4985"
      },
      "execution_count": null,
      "outputs": [
        {
          "output_type": "stream",
          "name": "stdout",
          "text": [
            "There are 6 unique designations in the dataset.\n",
            "There are 6 unique units in the dataset.\n"
          ]
        }
      ]
    },
    {
      "cell_type": "code",
      "source": [
        "# Get unique designations and units\n",
        "unique_designations = df['DESIGNATION'].unique()\n",
        "unique_units = df['UNIT'].unique()\n",
        "\n",
        "# Print unique designations\n",
        "print(\"Unique Designations:\")\n",
        "for designation in unique_designations:\n",
        "  print(designation)\n",
        "\n",
        "# Print unique units\n",
        "print(\"\\nUnique Units:\")\n",
        "for unit in unique_units:\n",
        "  print(unit)"
      ],
      "metadata": {
        "colab": {
          "base_uri": "https://localhost:8080/"
        },
        "id": "GsNjUeCQwMwT",
        "outputId": "932daf6a-5b1a-42f3-85db-0c1e7befaedd"
      },
      "execution_count": null,
      "outputs": [
        {
          "output_type": "stream",
          "name": "stdout",
          "text": [
            "Unique Designations:\n",
            "Analyst\n",
            "Associate\n",
            "Senior Analyst\n",
            "Senior Manager\n",
            "Manager\n",
            "Director\n",
            "\n",
            "Unique Units:\n",
            "Finance\n",
            "Web\n",
            "IT\n",
            "Operations\n",
            "Marketing\n",
            "Management\n"
          ]
        }
      ]
    },
    {
      "cell_type": "code",
      "source": [
        "\n",
        "# Define a dictionary for mapping sex to numerical values (0 or 1)\n",
        "sex_mapping = {'M': 0, 'F': 1}\n",
        "\n",
        "# Apply the mapping to the 'SEX' column using a lambda function\n",
        "df['SEX_encoded'] = df['SEX'].apply(lambda x: sex_mapping[x])\n",
        "\n",
        "# Print the modified DataFrame (optional)\n",
        "print(df)\n"
      ],
      "metadata": {
        "colab": {
          "base_uri": "https://localhost:8080/"
        },
        "id": "JdtgQ654w29q",
        "outputId": "231b44a7-147c-4829-b3ce-f55dc70cd9ec"
      },
      "execution_count": null,
      "outputs": [
        {
          "output_type": "stream",
          "name": "stdout",
          "text": [
            "     SEX     DESIGNATION   AGE  SALARY        UNIT  LEAVES USED  \\\n",
            "0      F         Analyst  21.0   44570     Finance         24.0   \n",
            "1      F       Associate  25.0   89207         Web         23.0   \n",
            "2      F         Analyst  21.0   40955     Finance         23.0   \n",
            "3      F         Analyst  22.0   45550          IT         22.0   \n",
            "4      M         Analyst  25.0   43161  Operations         27.0   \n",
            "...   ..             ...   ...     ...         ...          ...   \n",
            "2634   F  Senior Manager  36.0  185977  Management         15.0   \n",
            "2635   F         Analyst  23.0   45758          IT         17.0   \n",
            "2636   F         Analyst  21.0   47315         Web         29.0   \n",
            "2637   F         Analyst  24.0   45172         Web         23.0   \n",
            "2638   M         Analyst  24.0   49176   Marketing         17.0   \n",
            "\n",
            "      LEAVES REMAINING  RATINGS  PAST EXP  SEX_encoded  \n",
            "0                  6.0      2.0         0            1  \n",
            "1                 13.0      3.0         7            1  \n",
            "2                  7.0      3.0         0            1  \n",
            "3                  8.0      3.0         0            1  \n",
            "4                  3.0      3.0         3            0  \n",
            "...                ...      ...       ...          ...  \n",
            "2634              15.0      5.0        10            1  \n",
            "2635              13.0      2.0         0            1  \n",
            "2636               1.0      5.0         0            1  \n",
            "2637               7.0      3.0         1            1  \n",
            "2638              13.0      2.0         2            0  \n",
            "\n",
            "[2639 rows x 10 columns]\n"
          ]
        }
      ]
    },
    {
      "cell_type": "code",
      "source": [],
      "metadata": {
        "id": "Pig38XnNx3wg"
      },
      "execution_count": null,
      "outputs": []
    },
    {
      "cell_type": "code",
      "source": [
        "\n",
        "\n",
        "\n",
        "# Create a new column by combining designation and unit\n",
        "df['designation_unit'] = df['DESIGNATION'] + '_' + df['UNIT']\n",
        "\n",
        "# Print the modified DataFrame (optional)\n",
        "print(df)\n"
      ],
      "metadata": {
        "colab": {
          "base_uri": "https://localhost:8080/"
        },
        "id": "C8SflnnhzqAK",
        "outputId": "4f96a753-c05c-45f2-ee28-7da2b79dcf87"
      },
      "execution_count": null,
      "outputs": [
        {
          "output_type": "stream",
          "name": "stdout",
          "text": [
            "     SEX     DESIGNATION   AGE  SALARY        UNIT  LEAVES USED  \\\n",
            "0      F         Analyst  21.0   44570     Finance         24.0   \n",
            "1      F       Associate  25.0   89207         Web         23.0   \n",
            "2      F         Analyst  21.0   40955     Finance         23.0   \n",
            "3      F         Analyst  22.0   45550          IT         22.0   \n",
            "4      M         Analyst  25.0   43161  Operations         27.0   \n",
            "...   ..             ...   ...     ...         ...          ...   \n",
            "2634   F  Senior Manager  36.0  185977  Management         15.0   \n",
            "2635   F         Analyst  23.0   45758          IT         17.0   \n",
            "2636   F         Analyst  21.0   47315         Web         29.0   \n",
            "2637   F         Analyst  24.0   45172         Web         23.0   \n",
            "2638   M         Analyst  24.0   49176   Marketing         17.0   \n",
            "\n",
            "      LEAVES REMAINING  RATINGS  PAST EXP  SEX_encoded  \\\n",
            "0                  6.0      2.0         0            1   \n",
            "1                 13.0      3.0         7            1   \n",
            "2                  7.0      3.0         0            1   \n",
            "3                  8.0      3.0         0            1   \n",
            "4                  3.0      3.0         3            0   \n",
            "...                ...      ...       ...          ...   \n",
            "2634              15.0      5.0        10            1   \n",
            "2635              13.0      2.0         0            1   \n",
            "2636               1.0      5.0         0            1   \n",
            "2637               7.0      3.0         1            1   \n",
            "2638              13.0      2.0         2            0   \n",
            "\n",
            "               designation_unit  \n",
            "0               Analyst_Finance  \n",
            "1                 Associate_Web  \n",
            "2               Analyst_Finance  \n",
            "3                    Analyst_IT  \n",
            "4            Analyst_Operations  \n",
            "...                         ...  \n",
            "2634  Senior Manager_Management  \n",
            "2635                 Analyst_IT  \n",
            "2636                Analyst_Web  \n",
            "2637                Analyst_Web  \n",
            "2638          Analyst_Marketing  \n",
            "\n",
            "[2639 rows x 11 columns]\n"
          ]
        }
      ]
    },
    {
      "cell_type": "code",
      "source": [
        "# Count the number of unique values in 'designation' and 'unit' columns\n",
        "n_designation = df['designation_unit'].nunique()\n",
        "#n_unit = df['UNIT'].nunique()\n",
        "\n",
        "# Print the results\n",
        "print(f\"There are {n_designation} unique designations in the dataset.\")\n",
        "#print(f\"There are {n_unit} unique units in the dataset.\")"
      ],
      "metadata": {
        "colab": {
          "base_uri": "https://localhost:8080/"
        },
        "id": "rdboaX1ozuNa",
        "outputId": "edb7bffc-90b5-4f22-eb0b-52d19ff4c80f"
      },
      "execution_count": null,
      "outputs": [
        {
          "output_type": "stream",
          "name": "stdout",
          "text": [
            "There are 36 unique designations in the dataset.\n"
          ]
        }
      ]
    },
    {
      "cell_type": "code",
      "source": [],
      "metadata": {
        "id": "ILxOKJk30I9E"
      },
      "execution_count": null,
      "outputs": []
    },
    {
      "cell_type": "code",
      "source": [
        "\n",
        "# Define dictionaries for designation and unit encoding\n",
        "designation_mapping = {\n",
        "    'Analyst': 1,\n",
        "    'Associate': 2,\n",
        "    'Senior Analyst': 3,\n",
        "    'Senior Manager': 4,\n",
        "    'Manager': 5,\n",
        "    'Director': 6\n",
        "}\n",
        "\n",
        "unit_mapping = {\n",
        "    'Finance': 1,\n",
        "    'Web': 2,\n",
        "    'IT': 3,\n",
        "    'Operations': 4,\n",
        "    'Marketing': 5,\n",
        "    'Management': 6\n",
        "}\n",
        "\n",
        "# Create new columns with encoded values\n",
        "df['designation_encoded'] = df['DESIGNATION'].map(designation_mapping)\n",
        "df['unit_encoded'] = df['UNIT'].map(unit_mapping)\n",
        "\n",
        "# Print the modified DataFrame (optional)\n",
        "print(df)\n"
      ],
      "metadata": {
        "colab": {
          "base_uri": "https://localhost:8080/"
        },
        "id": "-fXpIRiS1HBN",
        "outputId": "9d80612a-10b7-4e74-ab70-a4978ca4ed62"
      },
      "execution_count": null,
      "outputs": [
        {
          "output_type": "stream",
          "name": "stdout",
          "text": [
            "     SEX     DESIGNATION   AGE  SALARY        UNIT  LEAVES USED  \\\n",
            "0      F         Analyst  21.0   44570     Finance         24.0   \n",
            "1      F       Associate  25.0   89207         Web         23.0   \n",
            "2      F         Analyst  21.0   40955     Finance         23.0   \n",
            "3      F         Analyst  22.0   45550          IT         22.0   \n",
            "4      M         Analyst  25.0   43161  Operations         27.0   \n",
            "...   ..             ...   ...     ...         ...          ...   \n",
            "2634   F  Senior Manager  36.0  185977  Management         15.0   \n",
            "2635   F         Analyst  23.0   45758          IT         17.0   \n",
            "2636   F         Analyst  21.0   47315         Web         29.0   \n",
            "2637   F         Analyst  24.0   45172         Web         23.0   \n",
            "2638   M         Analyst  24.0   49176   Marketing         17.0   \n",
            "\n",
            "      LEAVES REMAINING  RATINGS  PAST EXP  SEX_encoded  \\\n",
            "0                  6.0      2.0         0            1   \n",
            "1                 13.0      3.0         7            1   \n",
            "2                  7.0      3.0         0            1   \n",
            "3                  8.0      3.0         0            1   \n",
            "4                  3.0      3.0         3            0   \n",
            "...                ...      ...       ...          ...   \n",
            "2634              15.0      5.0        10            1   \n",
            "2635              13.0      2.0         0            1   \n",
            "2636               1.0      5.0         0            1   \n",
            "2637               7.0      3.0         1            1   \n",
            "2638              13.0      2.0         2            0   \n",
            "\n",
            "               designation_unit  designation_encoded  unit_encoded  \n",
            "0               Analyst_Finance                    1             1  \n",
            "1                 Associate_Web                    2             2  \n",
            "2               Analyst_Finance                    1             1  \n",
            "3                    Analyst_IT                    1             3  \n",
            "4            Analyst_Operations                    1             4  \n",
            "...                         ...                  ...           ...  \n",
            "2634  Senior Manager_Management                    4             6  \n",
            "2635                 Analyst_IT                    1             3  \n",
            "2636                Analyst_Web                    1             2  \n",
            "2637                Analyst_Web                    1             2  \n",
            "2638          Analyst_Marketing                    1             5  \n",
            "\n",
            "[2639 rows x 13 columns]\n"
          ]
        }
      ]
    },
    {
      "cell_type": "code",
      "source": [
        "\n",
        "# Specify the columns to find min and max values (replace with actual columns)\n",
        "columns_of_interest = ['AGE', 'LEAVES USED', 'LEAVES REMAINING','SALARY','RATINGS','PAST EXP']\n",
        "\n",
        "# Calculate min and max values for each column\n",
        "min_values = df[columns_of_interest].min(axis=0)\n",
        "max_values = df[columns_of_interest].max(axis=0)\n",
        "\n",
        "# Print the results\n",
        "print(\"Minimum values:\")\n",
        "print(min_values)\n",
        "print(\"\\nMaximum values:\")\n",
        "print(max_values)\n"
      ],
      "metadata": {
        "colab": {
          "base_uri": "https://localhost:8080/"
        },
        "id": "ucy6ingh2BOg",
        "outputId": "8f53b8d8-6171-4b3a-8d22-10324efa6658"
      },
      "execution_count": null,
      "outputs": [
        {
          "output_type": "stream",
          "name": "stdout",
          "text": [
            "Minimum values:\n",
            "AGE                    21.0\n",
            "LEAVES USED            15.0\n",
            "LEAVES REMAINING        0.0\n",
            "SALARY              40001.0\n",
            "RATINGS                 2.0\n",
            "PAST EXP                0.0\n",
            "dtype: float64\n",
            "\n",
            "Maximum values:\n",
            "AGE                     45.0\n",
            "LEAVES USED             30.0\n",
            "LEAVES REMAINING        15.0\n",
            "SALARY              388112.0\n",
            "RATINGS                  5.0\n",
            "PAST EXP                23.0\n",
            "dtype: float64\n"
          ]
        }
      ]
    },
    {
      "cell_type": "code",
      "source": [
        "from sklearn.preprocessing import MinMaxScaler\n",
        "\n",
        "# Define the columns to scale (replace with actual column names)\n",
        "columns_to_scale = ['AGE', 'LEAVES USED', 'LEAVES REMAINING','PAST EXP']\n",
        "\n",
        "# Create a MinMaxScaler object\n",
        "scaler = MinMaxScaler()\n",
        "\n",
        "# Fit the scaler on the training data (assuming you have a split)\n",
        "# Replace 'df' with your training data if using a split\n",
        "scaler.fit(df[columns_to_scale])\n",
        "\n",
        "# Transform the specified columns using the fitted scaler\n",
        "df[columns_to_scale] = scaler.transform(df[columns_to_scale])\n",
        "\n",
        "# Print the scaled DataFrame (optional)\n",
        "print(df)\n"
      ],
      "metadata": {
        "colab": {
          "base_uri": "https://localhost:8080/"
        },
        "id": "RLX3B8TR4XrO",
        "outputId": "37abf281-e352-4c14-9125-9a0e9e3b2113"
      },
      "execution_count": null,
      "outputs": [
        {
          "output_type": "stream",
          "name": "stdout",
          "text": [
            "     SEX     DESIGNATION       AGE  SALARY        UNIT  LEAVES USED  \\\n",
            "0      F         Analyst  0.000000   44570     Finance     0.600000   \n",
            "1      F       Associate  0.166667   89207         Web     0.533333   \n",
            "2      F         Analyst  0.000000   40955     Finance     0.533333   \n",
            "3      F         Analyst  0.041667   45550          IT     0.466667   \n",
            "4      M         Analyst  0.166667   43161  Operations     0.800000   \n",
            "...   ..             ...       ...     ...         ...          ...   \n",
            "2634   F  Senior Manager  0.625000  185977  Management     0.000000   \n",
            "2635   F         Analyst  0.083333   45758          IT     0.133333   \n",
            "2636   F         Analyst  0.000000   47315         Web     0.933333   \n",
            "2637   F         Analyst  0.125000   45172         Web     0.533333   \n",
            "2638   M         Analyst  0.125000   49176   Marketing     0.133333   \n",
            "\n",
            "      LEAVES REMAINING  RATINGS  PAST EXP  SEX_encoded  \\\n",
            "0             0.400000      2.0  0.000000            1   \n",
            "1             0.866667      3.0  0.304348            1   \n",
            "2             0.466667      3.0  0.000000            1   \n",
            "3             0.533333      3.0  0.000000            1   \n",
            "4             0.200000      3.0  0.130435            0   \n",
            "...                ...      ...       ...          ...   \n",
            "2634          1.000000      5.0  0.434783            1   \n",
            "2635          0.866667      2.0  0.000000            1   \n",
            "2636          0.066667      5.0  0.000000            1   \n",
            "2637          0.466667      3.0  0.043478            1   \n",
            "2638          0.866667      2.0  0.086957            0   \n",
            "\n",
            "               designation_unit  designation_encoded  unit_encoded  \n",
            "0               Analyst_Finance                    1             1  \n",
            "1                 Associate_Web                    2             2  \n",
            "2               Analyst_Finance                    1             1  \n",
            "3                    Analyst_IT                    1             3  \n",
            "4            Analyst_Operations                    1             4  \n",
            "...                         ...                  ...           ...  \n",
            "2634  Senior Manager_Management                    4             6  \n",
            "2635                 Analyst_IT                    1             3  \n",
            "2636                Analyst_Web                    1             2  \n",
            "2637                Analyst_Web                    1             2  \n",
            "2638          Analyst_Marketing                    1             5  \n",
            "\n",
            "[2639 rows x 13 columns]\n"
          ]
        }
      ]
    },
    {
      "cell_type": "code",
      "source": [
        "# Assuming you have the scaled data in a DataFrame named 'df_scaled'\n",
        "# and the minimum ('min_values') and maximum ('max_values') values used for scaling\n",
        "df_unscaled = df.copy()\n",
        "# Define columns with numerical features (replace with actual names)\n",
        "numerical_features = ['AGE', 'LEAVES USED', 'LEAVES REMAINING', 'PAST EXP']\n",
        "\n",
        "# Rescale each numerical feature (assuming Min-Max scaling)\n",
        "for feature in numerical_features:\n",
        "  min_value = min_values[feature]\n",
        "  max_value = max_values[feature]\n",
        "  df_unscaled[feature] = df[feature] * (max_value - min_value) + min_value\n"
      ],
      "metadata": {
        "id": "L56XTi2V535B"
      },
      "execution_count": null,
      "outputs": []
    },
    {
      "cell_type": "code",
      "source": [
        "print(df_unscaled)"
      ],
      "metadata": {
        "colab": {
          "base_uri": "https://localhost:8080/"
        },
        "id": "HvuyxN0r6vIy",
        "outputId": "ae539c57-ba71-4512-cde5-d88bef342b4b"
      },
      "execution_count": null,
      "outputs": [
        {
          "output_type": "stream",
          "name": "stdout",
          "text": [
            "     SEX     DESIGNATION   AGE  SALARY        UNIT  LEAVES USED  \\\n",
            "0      F         Analyst  21.0   44570     Finance         24.0   \n",
            "1      F       Associate  25.0   89207         Web         23.0   \n",
            "2      F         Analyst  21.0   40955     Finance         23.0   \n",
            "3      F         Analyst  22.0   45550          IT         22.0   \n",
            "4      M         Analyst  25.0   43161  Operations         27.0   \n",
            "...   ..             ...   ...     ...         ...          ...   \n",
            "2634   F  Senior Manager  36.0  185977  Management         15.0   \n",
            "2635   F         Analyst  23.0   45758          IT         17.0   \n",
            "2636   F         Analyst  21.0   47315         Web         29.0   \n",
            "2637   F         Analyst  24.0   45172         Web         23.0   \n",
            "2638   M         Analyst  24.0   49176   Marketing         17.0   \n",
            "\n",
            "      LEAVES REMAINING  RATINGS  PAST EXP  SEX_encoded  \\\n",
            "0                  6.0      2.0       0.0            1   \n",
            "1                 13.0      3.0       7.0            1   \n",
            "2                  7.0      3.0       0.0            1   \n",
            "3                  8.0      3.0       0.0            1   \n",
            "4                  3.0      3.0       3.0            0   \n",
            "...                ...      ...       ...          ...   \n",
            "2634              15.0      5.0      10.0            1   \n",
            "2635              13.0      2.0       0.0            1   \n",
            "2636               1.0      5.0       0.0            1   \n",
            "2637               7.0      3.0       1.0            1   \n",
            "2638              13.0      2.0       2.0            0   \n",
            "\n",
            "               designation_unit  designation_encoded  unit_encoded  \n",
            "0               Analyst_Finance                    1             1  \n",
            "1                 Associate_Web                    2             2  \n",
            "2               Analyst_Finance                    1             1  \n",
            "3                    Analyst_IT                    1             3  \n",
            "4            Analyst_Operations                    1             4  \n",
            "...                         ...                  ...           ...  \n",
            "2634  Senior Manager_Management                    4             6  \n",
            "2635                 Analyst_IT                    1             3  \n",
            "2636                Analyst_Web                    1             2  \n",
            "2637                Analyst_Web                    1             2  \n",
            "2638          Analyst_Marketing                    1             5  \n",
            "\n",
            "[2639 rows x 13 columns]\n"
          ]
        }
      ]
    },
    {
      "cell_type": "code",
      "source": [
        "# Create a new column named \"total_leaves\" by adding existing columns\n",
        "df_unscaled['total_leaves'] = df_unscaled['LEAVES USED'] + df_unscaled['LEAVES REMAINING']\n",
        "\n",
        "# Print the DataFrame with the new column (optional)\n",
        "print(df_unscaled)"
      ],
      "metadata": {
        "colab": {
          "base_uri": "https://localhost:8080/"
        },
        "id": "olQSmMLw6x7X",
        "outputId": "5fbd8197-b925-42e6-8bc1-de972b6816c5"
      },
      "execution_count": null,
      "outputs": [
        {
          "output_type": "stream",
          "name": "stdout",
          "text": [
            "     SEX     DESIGNATION   AGE  SALARY        UNIT  LEAVES USED  \\\n",
            "0      F         Analyst  21.0   44570     Finance         24.0   \n",
            "1      F       Associate  25.0   89207         Web         23.0   \n",
            "2      F         Analyst  21.0   40955     Finance         23.0   \n",
            "3      F         Analyst  22.0   45550          IT         22.0   \n",
            "4      M         Analyst  25.0   43161  Operations         27.0   \n",
            "...   ..             ...   ...     ...         ...          ...   \n",
            "2634   F  Senior Manager  36.0  185977  Management         15.0   \n",
            "2635   F         Analyst  23.0   45758          IT         17.0   \n",
            "2636   F         Analyst  21.0   47315         Web         29.0   \n",
            "2637   F         Analyst  24.0   45172         Web         23.0   \n",
            "2638   M         Analyst  24.0   49176   Marketing         17.0   \n",
            "\n",
            "      LEAVES REMAINING  RATINGS  PAST EXP  SEX_encoded  \\\n",
            "0                  6.0      2.0       0.0            1   \n",
            "1                 13.0      3.0       7.0            1   \n",
            "2                  7.0      3.0       0.0            1   \n",
            "3                  8.0      3.0       0.0            1   \n",
            "4                  3.0      3.0       3.0            0   \n",
            "...                ...      ...       ...          ...   \n",
            "2634              15.0      5.0      10.0            1   \n",
            "2635              13.0      2.0       0.0            1   \n",
            "2636               1.0      5.0       0.0            1   \n",
            "2637               7.0      3.0       1.0            1   \n",
            "2638              13.0      2.0       2.0            0   \n",
            "\n",
            "               designation_unit  designation_encoded  unit_encoded  \\\n",
            "0               Analyst_Finance                    1             1   \n",
            "1                 Associate_Web                    2             2   \n",
            "2               Analyst_Finance                    1             1   \n",
            "3                    Analyst_IT                    1             3   \n",
            "4            Analyst_Operations                    1             4   \n",
            "...                         ...                  ...           ...   \n",
            "2634  Senior Manager_Management                    4             6   \n",
            "2635                 Analyst_IT                    1             3   \n",
            "2636                Analyst_Web                    1             2   \n",
            "2637                Analyst_Web                    1             2   \n",
            "2638          Analyst_Marketing                    1             5   \n",
            "\n",
            "      total_leaves  \n",
            "0             30.0  \n",
            "1             36.0  \n",
            "2             30.0  \n",
            "3             30.0  \n",
            "4             30.0  \n",
            "...            ...  \n",
            "2634          30.0  \n",
            "2635          30.0  \n",
            "2636          30.0  \n",
            "2637          30.0  \n",
            "2638          30.0  \n",
            "\n",
            "[2639 rows x 14 columns]\n"
          ]
        }
      ]
    },
    {
      "cell_type": "code",
      "source": [
        "from sklearn.preprocessing import MinMaxScaler\n",
        "\n",
        "# Define the columns to scale (replace with actual column names)\n",
        "columns_to_scale = ['AGE', 'LEAVES USED', 'LEAVES REMAINING','PAST EXP','total_leaves']\n",
        "\n",
        "# Create a MinMaxScaler object\n",
        "scaler = MinMaxScaler()\n",
        "\n",
        "# Fit the scaler on the training data (assuming you have a split)\n",
        "# Replace 'df' with your training data if using a split\n",
        "scaler.fit(df_unscaled[columns_to_scale])\n",
        "\n",
        "# Transform the specified columns using the fitted scaler\n",
        "df_unscaled[columns_to_scale] = scaler.transform(df_unscaled[columns_to_scale])\n",
        "\n",
        "# Print the scaled DataFrame (optional)\n",
        "print(df_unscaled)\n"
      ],
      "metadata": {
        "colab": {
          "base_uri": "https://localhost:8080/"
        },
        "id": "RNRSap7K7JsB",
        "outputId": "02c0003d-79d0-41d9-dd68-d6e5d52c9997"
      },
      "execution_count": null,
      "outputs": [
        {
          "output_type": "stream",
          "name": "stdout",
          "text": [
            "     SEX     DESIGNATION       AGE  SALARY        UNIT  LEAVES USED  \\\n",
            "0      F         Analyst  0.000000   44570     Finance     0.600000   \n",
            "1      F       Associate  0.166667   89207         Web     0.533333   \n",
            "2      F         Analyst  0.000000   40955     Finance     0.533333   \n",
            "3      F         Analyst  0.041667   45550          IT     0.466667   \n",
            "4      M         Analyst  0.166667   43161  Operations     0.800000   \n",
            "...   ..             ...       ...     ...         ...          ...   \n",
            "2634   F  Senior Manager  0.625000  185977  Management     0.000000   \n",
            "2635   F         Analyst  0.083333   45758          IT     0.133333   \n",
            "2636   F         Analyst  0.000000   47315         Web     0.933333   \n",
            "2637   F         Analyst  0.125000   45172         Web     0.533333   \n",
            "2638   M         Analyst  0.125000   49176   Marketing     0.133333   \n",
            "\n",
            "      LEAVES REMAINING  RATINGS  PAST EXP  SEX_encoded  \\\n",
            "0             0.400000      2.0  0.000000            1   \n",
            "1             0.866667      3.0  0.304348            1   \n",
            "2             0.466667      3.0  0.000000            1   \n",
            "3             0.533333      3.0  0.000000            1   \n",
            "4             0.200000      3.0  0.130435            0   \n",
            "...                ...      ...       ...          ...   \n",
            "2634          1.000000      5.0  0.434783            1   \n",
            "2635          0.866667      2.0  0.000000            1   \n",
            "2636          0.066667      5.0  0.000000            1   \n",
            "2637          0.466667      3.0  0.043478            1   \n",
            "2638          0.866667      2.0  0.086957            0   \n",
            "\n",
            "               designation_unit  designation_encoded  unit_encoded  \\\n",
            "0               Analyst_Finance                    1             1   \n",
            "1                 Associate_Web                    2             2   \n",
            "2               Analyst_Finance                    1             1   \n",
            "3                    Analyst_IT                    1             3   \n",
            "4            Analyst_Operations                    1             4   \n",
            "...                         ...                  ...           ...   \n",
            "2634  Senior Manager_Management                    4             6   \n",
            "2635                 Analyst_IT                    1             3   \n",
            "2636                Analyst_Web                    1             2   \n",
            "2637                Analyst_Web                    1             2   \n",
            "2638          Analyst_Marketing                    1             5   \n",
            "\n",
            "      total_leaves  \n",
            "0              0.5  \n",
            "1              1.0  \n",
            "2              0.5  \n",
            "3              0.5  \n",
            "4              0.5  \n",
            "...            ...  \n",
            "2634           0.5  \n",
            "2635           0.5  \n",
            "2636           0.5  \n",
            "2637           0.5  \n",
            "2638           0.5  \n",
            "\n",
            "[2639 rows x 14 columns]\n"
          ]
        }
      ]
    },
    {
      "cell_type": "code",
      "source": [],
      "metadata": {
        "id": "6qc6mhqc7pva"
      },
      "execution_count": null,
      "outputs": []
    },
    {
      "cell_type": "code",
      "source": [
        "import pandas as pd\n",
        "import matplotlib.pyplot as plt\n",
        "\n",
        "# Specify the feature to plot against (target variable)\n",
        "target_feature = 'SALARY'\n",
        "\n",
        "# Select the specific features to plot\n",
        "features_to_plot = ['AGE', 'PAST EXP','RATINGS']\n",
        "\n",
        "# Create a figure with subplots\n",
        "fig, axes = plt.subplots(nrows=len(features_to_plot), figsize=(10, 6))  # Adjust figure size as needed\n",
        "\n",
        "# Iterate through features and create scatter plots on each subplot\n",
        "for idx, feature in enumerate(features_to_plot):\n",
        "  axes[idx].scatter(df_unscaled[feature], df_unscaled[target_feature])  # Scatter plot for each feature\n",
        "  axes[idx].set_xlabel(feature)  # Set x-axis label\n",
        "  axes[idx].set_ylabel(target_feature)  # Set y-axis label (consistent for all subplots)\n",
        "  axes[idx].title.set_text(f'{feature} vs. {target_feature}')  # Set subplot title\n",
        "\n",
        "# Add a main title for the overall figure (optional)\n",
        "fig.suptitle(f'Scatter Plots of {target_feature} vs. Specific Features')\n",
        "\n",
        "# Adjust layout (optional)\n",
        "plt.tight_layout()\n",
        "\n",
        "# Display the plot\n",
        "plt.show()\n"
      ],
      "metadata": {
        "colab": {
          "base_uri": "https://localhost:8080/",
          "height": 403
        },
        "id": "Uk7-MBD48yhN",
        "outputId": "f90fac85-fa77-498d-cbbc-09d684599579"
      },
      "execution_count": null,
      "outputs": [
        {
          "output_type": "display_data",
          "data": {
            "text/plain": [
              "<Figure size 1000x600 with 3 Axes>"
            ],
            "image/png": "[encoded data removed]"
          },
          "metadata": {}
        }
      ]
    },
    {
      "cell_type": "code",
      "source": [],
      "metadata": {
        "id": "Ru1iMUG18yWT"
      },
      "execution_count": null,
      "outputs": []
    },
    {
      "cell_type": "code",
      "source": [
        "import pandas as pd\n",
        "import seaborn as sns\n",
        "import matplotlib.pyplot as plt\n",
        "\n",
        "# Define the target feature\n",
        "target_feature = 'SALARY'\n",
        "\n",
        "# Define the group of features to consider for the heatmap\n",
        "feature_group = ['AGE', 'RATINGS', 'PAST EXP','designation_encoded','unit_encoded','SEX_encoded']\n",
        "\n",
        "# Create a subset of the DataFrame with only the target feature and feature group\n",
        "subset_df = df_unscaled[feature_group + [target_feature]]\n",
        "\n",
        "# Calculate the correlation matrix for the subset DataFrame\n",
        "correlation_matrix = subset_df.corr()\n",
        "\n",
        "# Create a heatmap\n",
        "plt.figure(figsize=(8, 6))  # Adjust the figure size as needed\n",
        "sns.heatmap(correlation_matrix, annot=True, cmap='coolwarm')  # Adjust cmap for color scheme\n",
        "\n",
        "# Add labels and title\n",
        "plt.xlabel('Features in Group')\n",
        "plt.ylabel(target_feature)\n",
        "plt.title(f'Correlation Heatmap - {target_feature} vs. Feature Group')\n",
        "\n",
        "# Rotate x-axis labels for better readability\n",
        "plt.xticks(rotation=45, ha='right')\n",
        "plt.show()\n"
      ],
      "metadata": {
        "colab": {
          "base_uri": "https://localhost:8080/",
          "height": 554
        },
        "id": "3fONVzX49pL6",
        "outputId": "cc295e8e-4f52-4eeb-ac83-9badd85625d8"
      },
      "execution_count": null,
      "outputs": [
        {
          "output_type": "display_data",
          "data": {
            "text/plain": [
              "<Figure size 800x600 with 2 Axes>"
            ],
            "image/png": "[encoded data removed]"
          },
          "metadata": {}
        }
      ]
    },
    {
      "cell_type": "code",
      "source": [],
      "metadata": {
        "id": "sBwjVhUq92su"
      },
      "execution_count": null,
      "outputs": []
    },
    {
      "cell_type": "code",
      "source": [
        "import numpy as np\n",
        "from sklearn.model_selection import train_test_split\n",
        "from sklearn.linear_model import LinearRegression\n",
        "from sklearn.tree import DecisionTreeRegressor\n",
        "from sklearn.ensemble import RandomForestRegressor, GradientBoostingRegressor\n",
        "from sklearn.metrics import mean_squared_error, mean_absolute_error, r2_score\n",
        "\n",
        "# Specify the features you want to use['AGE', 'PAST EXP', 'designation_encoded','unit_encoded','SEX_encoded','RATINGS']\n",
        "features_to_use =['AGE', 'PAST EXP', 'designation_encoded','unit_encoded','SEX_encoded','RATINGS']   # Replace with your desired features\n",
        "\n",
        "# Split data into training and testing sets\n",
        "X = df[features_to_use]  # Select features from the DataFrame\n",
        "y = df['SALARY']  # Target variable\n",
        "\n",
        "X_train, X_test, y_train, y_test = train_test_split(X, y, test_size=0.2, random_state=42)\n",
        "\n",
        "# Define and train the models\n",
        "models = {}\n",
        "\n",
        "# Linear Regression\n",
        "models['Linear Regression'] = LinearRegression()\n",
        "models['Linear Regression'].fit(X_train, y_train)\n",
        "\n",
        "# Decision Tree Regressor\n",
        "models['Decision Tree'] = DecisionTreeRegressor()\n",
        "models['Decision Tree'].fit(X_train, y_train)\n",
        "\n",
        "# Random Forest Regressor\n",
        "models['Random Forest'] = RandomForestRegressor(n_estimators=100, random_state=42)  # Adjust n_estimators as needed\n",
        "models['Random Forest'].fit(X_train, y_train)\n",
        "\n",
        "# Gradient Boosting Regressor\n",
        "models['Gradient Boosting'] = GradientBoostingRegressor(n_estimators=100, learning_rate=0.1, random_state=42)  # Adjust n_estimators and learning_rate as needed\n",
        "models['Gradient Boosting'].fit(X_train, y_train)\n",
        "\n",
        "# Evaluate model performance on training and testing sets\n",
        "for name, model in models.items():\n",
        "  # Training set predictions\n",
        "  y_pred_train = model.predict(X_train)\n",
        "  mse_train = mean_squared_error(y_train, y_pred_train)\n",
        "  mae_train = mean_absolute_error(y_train, y_pred_train)\n",
        "  r2_train = r2_score(y_train, y_pred_train)\n",
        "  rmse_train = np.sqrt(mse_train)  # Calculate RMSE\n",
        "\n",
        "  # Testing set predictions\n",
        "  y_pred = model.predict(X_test)\n",
        "  mse = mean_squared_error(y_test, y_pred)\n",
        "  mae = mean_absolute_error(y_test, y_pred)\n",
        "  r2 = r2_score(y_test, y_pred)\n",
        "  rmse = np.sqrt(mse)  # Calculate RMSE\n",
        "\n",
        "  # Print detailed results\n",
        "  print(f\"\\n{name} Performance:\")\n",
        "  print(f\"Training Set - MSE: {mse_train:.2f}, MAE: {mae_train:.2f}, R2: {r2_train:.2f}, RMSE: {rmse_train:.2f}\")\n",
        "  print(f\"Testing Set - MSE: {mse:.2f}, MAE: {mae:.2f}, R2: {r2:.2f}, RMSE: {rmse:.2f}\")\n",
        "\n"
      ],
      "metadata": {
        "colab": {
          "base_uri": "https://localhost:8080/"
        },
        "id": "IR4p9vqpOMnx",
        "outputId": "b2d468a2-c1eb-4883-bae5-c06209d3f60e"
      },
      "execution_count": null,
      "outputs": [
        {
          "output_type": "stream",
          "name": "stdout",
          "text": [
            "\n",
            "Linear Regression Performance:\n",
            "Training Set - MSE: 243386553.60, MAE: 10351.72, R2: 0.81, RMSE: 15600.85\n",
            "Testing Set - MSE: 355396478.60, MAE: 11201.07, R2: 0.79, RMSE: 18851.96\n",
            "\n",
            "Decision Tree Performance:\n",
            "Training Set - MSE: 7298024.96, MAE: 1627.61, R2: 0.99, RMSE: 2701.49\n",
            "Testing Set - MSE: 91004497.76, MAE: 4717.60, R2: 0.95, RMSE: 9539.63\n",
            "\n",
            "Random Forest Performance:\n",
            "Training Set - MSE: 14707017.06, MAE: 2433.98, R2: 0.99, RMSE: 3834.97\n",
            "Testing Set - MSE: 99854296.89, MAE: 4629.53, R2: 0.94, RMSE: 9992.71\n",
            "\n",
            "Gradient Boosting Performance:\n",
            "Training Set - MSE: 27681858.51, MAE: 3684.53, R2: 0.98, RMSE: 5261.36\n",
            "Testing Set - MSE: 127149999.08, MAE: 4649.96, R2: 0.92, RMSE: 11276.08\n"
          ]
        }
      ]
    },
    {
      "cell_type": "code",
      "source": [],
      "metadata": {
        "id": "kRPlADE3Q2dS"
      },
      "execution_count": null,
      "outputs": []
    },
    {
      "cell_type": "code",
      "source": [
        "import numpy as np\n",
        "from sklearn.model_selection import train_test_split\n",
        "from sklearn.linear_model import LinearRegression\n",
        "from sklearn.tree import DecisionTreeRegressor\n",
        "from sklearn.ensemble import RandomForestRegressor, GradientBoostingRegressor\n",
        "from sklearn.metrics import mean_squared_error, mean_absolute_error, r2_score\n",
        "from sklearn.preprocessing import StandardScaler  # Import for normalization (optional)\n",
        "\n",
        "# Specify the features you want to use\n",
        "features_to_use = ['AGE', 'PAST EXP', 'designation_encoded','unit_encoded','SEX_encoded','RATINGS']  # Replace with your desired features\n",
        "\n",
        "# Split data into training and testing sets\n",
        "X = df[features_to_use]  # Select features from the DataFrame\n",
        "y = df['SALARY']  # Target variable\n",
        "\n",
        "X_train, X_test, y_train, y_test = train_test_split(X, y, test_size=0.2, random_state=42)\n",
        "\n",
        "# Optional: Feature Normalization (consider if features have different scales)\n",
        "scaler = StandardScaler()\n",
        "X_train = scaler.fit_transform(X_train)\n",
        "X_test = scaler.transform(X_test)\n",
        "\n",
        "# Define models with regularization or hyperparameter tuning\n",
        "models = {}\n",
        "\n",
        "# Linear Regression (L1/L2 Regularization)\n",
        "# Try both approaches with and without random_state\n",
        "# Option 1 (might work if random_state is supported):\n",
        "# models['Linear Regression'] = LinearRegression(random_state=42)  # Add random_state for reproducibility\n",
        "\n",
        "# Option 2 (if Option 1 throws TypeError):\n",
        "models['Linear Regression'] = LinearRegression()\n",
        "\n",
        "# Decision Tree (Max Depth Control)\n",
        "models['Decision Tree'] = DecisionTreeRegressor(max_depth=5, random_state=42)  # Adjust max_depth as needed\n",
        "\n",
        "# Random Forest (Number of Estimators)\n",
        "models['Random Forest'] = RandomForestRegressor(n_estimators=50, random_state=42)  # Adjust n_estimators as needed\n",
        "\n",
        "# Gradient Boosting (Learning Rate and Number of Estimators)\n",
        "models['Gradient Boosting'] = GradientBoostingRegressor(learning_rate=0.05, n_estimators=80, random_state=42)  # Adjust hyperparameters as needed\n",
        "\n",
        "# Evaluate model performance on training and testing sets\n",
        "for name, model in models.items():\n",
        "  # Ensure model is fitted before prediction\n",
        "  model.fit(X_train, y_train)  # Fit the model\n",
        "\n",
        "  # Training set predictions\n",
        "  y_pred_train = model.predict(X_train)\n",
        "  mse_train = mean_squared_error(y_train, y_pred_train)\n",
        "  mae_train = mean_absolute_error(y_train, y_pred_train)\n",
        "  r2_train = r2_score(y_train, y_pred_train)\n",
        "  rmse_train = np.sqrt(mse_train)  # Calculate RMSE\n",
        "\n",
        "  # Testing set predictions\n",
        "  y_pred = model.predict(X_test)\n",
        "  mse = mean_squared_error(y_test, y_pred)\n",
        "  mae = mean_absolute_error(y_test, y_pred)\n",
        "  r2 = r2_score(y_test, y_pred)\n",
        "  rmse = np.sqrt(mse)  # Calculate RMSE\n",
        "\n",
        "  # Print detailed results\n",
        "  print(f\"\\n{name} Performance:\")\n",
        "  print(f\"Training Set - MSE: {mse_train:.2f}, MAE: {mae_train:.2f}, R2: {r2_train:.2f}, RMSE: {rmse_train:.2f}\")\n",
        "  print(f\"Testing Set - MSE: {mse:.2f}, MAE: {mae:.2f}, R2: {r2:.2f}, RMSE: {rmse:.2f}\")"
      ],
      "metadata": {
        "colab": {
          "base_uri": "https://localhost:8080/"
        },
        "id": "wdxHQKPORxhM",
        "outputId": "26a2aee3-fdee-441c-de90-caf0b2e4d181"
      },
      "execution_count": null,
      "outputs": [
        {
          "output_type": "stream",
          "name": "stdout",
          "text": [
            "\n",
            "Linear Regression Performance:\n",
            "Training Set - MSE: 243386553.60, MAE: 10351.72, R2: 0.81, RMSE: 15600.85\n",
            "Testing Set - MSE: 355396478.60, MAE: 11201.07, R2: 0.79, RMSE: 18851.96\n",
            "\n",
            "Decision Tree Performance:\n",
            "Training Set - MSE: 33369894.49, MAE: 3775.54, R2: 0.97, RMSE: 5776.67\n",
            "Testing Set - MSE: 99772681.32, MAE: 4499.04, R2: 0.94, RMSE: 9988.63\n",
            "\n",
            "Random Forest Performance:\n",
            "Training Set - MSE: 15157642.18, MAE: 2437.64, R2: 0.99, RMSE: 3893.28\n",
            "Testing Set - MSE: 109753897.91, MAE: 4704.62, R2: 0.93, RMSE: 10476.35\n",
            "\n",
            "Gradient Boosting Performance:\n",
            "Training Set - MSE: 37926328.06, MAE: 3962.18, R2: 0.97, RMSE: 6158.44\n",
            "Testing Set - MSE: 129043390.54, MAE: 4832.03, R2: 0.92, RMSE: 11359.73\n"
          ]
        }
      ]
    },
    {
      "cell_type": "code",
      "source": [
        "import sklearn as skl\n",
        "print(skl.__version__)\n"
      ],
      "metadata": {
        "colab": {
          "base_uri": "https://localhost:8080/"
        },
        "id": "I9JEn0jCSJDM",
        "outputId": "2541e7d8-8cfa-4856-9a98-95e4342e7e71"
      },
      "execution_count": null,
      "outputs": [
        {
          "output_type": "stream",
          "name": "stdout",
          "text": [
            "1.2.2\n"
          ]
        }
      ]
    },
    {
      "cell_type": "code",
      "source": [],
      "metadata": {
        "id": "3gvvEFeYULDU"
      },
      "execution_count": null,
      "outputs": []
    },
    {
      "cell_type": "code",
      "source": [
        "from sklearn.tree import DecisionTreeRegressor\n",
        "from sklearn.model_selection import GridSearchCV\n",
        "\n",
        "features_to_use = ['AGE', 'PAST EXP', 'designation_encoded','unit_encoded','SEX_encoded','RATINGS']\n",
        "\n",
        "X = df[features_to_use]  # Select features from the DataFrame\n",
        "y = df['SALARY']  # Target variable\n",
        "\n",
        "X_train, X_test, y_train, y_test = train_test_split(X, y, test_size=0.2, random_state=42)\n",
        "\n",
        "# Define Decision Tree with GridSearchCV for Hyperparameter Tuning\n",
        "param_grid = {\n",
        "    'max_depth': [3, 5, 8],  # Experiment with different depths\n",
        "    'min_samples_split': [2, 5, 10],  # Experiment with minimum samples to split\n",
        "    'min_samples_leaf': [1, 4, 8],  # Experiment with minimum samples at leaf nodes\n",
        "    'ccp_alpha': [0.001, 0.01, 0.1]  # L1 regularization hyperparameter\n",
        "}\n",
        "\n",
        "# Decision Tree (Max Depth Control)\n",
        "model_dt = DecisionTreeRegressor(random_state=42)\n",
        "grid_search = GridSearchCV(model_dt, param_grid, cv=5, scoring='neg_mean_squared_error')  # Use negative MSE for maximization\n",
        "grid_search.fit(X_train, y_train)\n",
        "\n",
        "# Get the best model and its parameters\n",
        "best_model = grid_search.best_estimator_\n",
        "best_params = grid_search.best_params_\n",
        "\n",
        "# Fit the best model on training data\n",
        "best_model.fit(X_train, y_train)\n",
        "\n",
        "# Evaluate model performance\n",
        "y_pred_train = best_model.predict(X_train)\n",
        "mse_train = mean_squared_error(y_train, y_pred_train)\n",
        "mae_train = mean_absolute_error(y_train, y_pred_train)\n",
        "r2_train = r2_score(y_train, y_pred_train)\n",
        "rmse_train = np.sqrt(mse_train)\n",
        "\n",
        "y_pred = best_model.predict(X_test)\n",
        "mse = mean_squared_error(y_test, y_pred)\n",
        "mae = mean_absolute_error(y_test, y_pred)\n",
        "r2 = r2_score(y_test, y_pred)\n",
        "rmse = np.sqrt(mse)\n",
        "\n",
        "# Print detailed results\n",
        "print(\"\\nDecision Tree Performance (GridSearchCV):\")\n",
        "print(f\"Best Parameters: {best_params}\")\n",
        "print(f\"Training Set - MSE: {mse_train:.2f}, MAE: {mae_train:.2f}, R2: {r2_train:.2f}, RMSE: {rmse_train:.2f}\")\n",
        "print(f\"Testing Set - MSE: {mse:.2f}, MAE: {mae:.2f}, R2: {r2:.2f}, RMSE: {rmse:.2f}\")"
      ],
      "metadata": {
        "colab": {
          "base_uri": "https://localhost:8080/"
        },
        "id": "yby5uayZaN1Z",
        "outputId": "b1839a3e-4647-4164-f57b-81bee3749b16"
      },
      "execution_count": null,
      "outputs": [
        {
          "output_type": "stream",
          "name": "stdout",
          "text": [
            "\n",
            "Decision Tree Performance (GridSearchCV):\n",
            "Best Parameters: {'ccp_alpha': 0.001, 'max_depth': 5, 'min_samples_leaf': 1, 'min_samples_split': 10}\n",
            "Training Set - MSE: 35058780.52, MAE: 3817.20, R2: 0.97, RMSE: 5921.05\n",
            "Testing Set - MSE: 99150441.06, MAE: 4513.76, R2: 0.94, RMSE: 9957.43\n"
          ]
        }
      ]
    },
    {
      "cell_type": "code",
      "source": [],
      "metadata": {
        "id": "g2brR1lLdjfd"
      },
      "execution_count": null,
      "outputs": []
    }
  ]
}